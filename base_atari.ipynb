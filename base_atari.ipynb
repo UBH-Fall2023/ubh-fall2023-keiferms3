{
 "cells": [
  {
   "cell_type": "code",
   "execution_count": null,
   "metadata": {},
   "outputs": [],
   "source": [
    "!pip install gymnasium[atari]\n",
    "!pip install gymnasium matplotlib numpy\n",
    "!pip install ale-py\n",
    "!pip install gymnasium[accept-rom-license]\n",
    "!pip install tensorflow\n"
   ]
  },
  {
   "cell_type": "code",
   "execution_count": null,
   "metadata": {},
   "outputs": [],
   "source": [
    "from ale_py import ALEInterface\n",
    "from ale_py.roms import Breakout\n",
    "import gymnasium as gym\n",
    "# from tensorflow import keras\n"
   ]
  },
  {
   "cell_type": "code",
   "execution_count": null,
   "metadata": {},
   "outputs": [],
   "source": [
    "ale = ALEInterface()\n",
    "ale.loadROM(Breakout)"
   ]
  },
  {
   "cell_type": "code",
   "execution_count": null,
   "metadata": {},
   "outputs": [],
   "source": [
    "import random\n",
    "env = gym.make(\"BreakoutNoFrameskip-v4\", render_mode=\"human\")\n",
    "observation, info = env.reset()\n",
    "\n",
    "next_frame, reward, terminated, truncated, info = env.step(1)\n",
    "print('Reward Recieved = ' + str(reward))\n",
    "print('Next state is a terminal state: ' + str(terminated))\n",
    "print('info[ale.lives] tells us how many lives we have. Lives: ' + str(info['lives']))\n",
    "\n",
    "\n",
    "for i in range(10000):\n",
    "    a = random.sample([0,1,2,3] , 1)[0]\n",
    "    f_p,r,d,t,info = env.step(a)\n",
    "    print(r)\n",
    "    env.render()\n",
    "    if d == True:\n",
    "        env.reset()\n",
    "        "
   ]
  }
 ],
 "metadata": {
  "kernelspec": {
   "display_name": "Python 3",
   "language": "python",
   "name": "python3"
  },
  "language_info": {
   "codemirror_mode": {
    "name": "ipython",
    "version": 3
   },
   "file_extension": ".py",
   "mimetype": "text/x-python",
   "name": "python",
   "nbconvert_exporter": "python",
   "pygments_lexer": "ipython3",
   "version": "3.9.13"
  }
 },
 "nbformat": 4,
 "nbformat_minor": 2
}
