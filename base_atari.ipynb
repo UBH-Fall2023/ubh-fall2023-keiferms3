{
 "cells": [
  {
   "cell_type": "code",
   "execution_count": null,
   "metadata": {},
   "outputs": [],
   "source": [
    "!pip install gymnasium[atari]\n",
    "!pip install ale-py\n",
    "!pip install gymnasium[accept-rom-license]"
   ]
  }
 ],
 "metadata": {
  "language_info": {
   "name": "python"
  }
 },
 "nbformat": 4,
 "nbformat_minor": 2
}
